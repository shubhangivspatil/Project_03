{
 "cells": [
  {
   "cell_type": "code",
   "execution_count": null,
   "id": "a6447d34",
   "metadata": {},
   "outputs": [],
   "source": [
    "import streamlit as st\n",
    "import pandas as pd\n",
    "import plotly.express as px\n",
    "import numpy as np\n",
    "import os\n"
   ]
  },
  {
   "cell_type": "code",
   "execution_count": null,
   "id": "e93c0cfe",
   "metadata": {},
   "outputs": [],
   "source": [
    "\n",
    "\n",
    "# File path\n",
    "file_path = 'D:\\GUVI_Projects\\My_Projects\\listings_1.csv'\n",
    "\n",
    "import pandas as pd\n",
    "\n",
    "# Load the dataset\n",
    "data = pd.read_csv(file_path)\n",
    "\n",
    "# Display the first few rows of the dataset\n",
    "print(data.head())\n",
    "\n",
    "# Get a summary of the dataset\n",
    "print(data.describe())"
   ]
  },
  {
   "cell_type": "code",
   "execution_count": null,
   "id": "6be69236",
   "metadata": {},
   "outputs": [],
   "source": [
    "#checking missing values\n",
    "data.isnull()"
   ]
  },
  {
   "cell_type": "code",
   "execution_count": null,
   "id": "8940d67b",
   "metadata": {},
   "outputs": [],
   "source": [
    "data.isnull().sum()"
   ]
  },
  {
   "cell_type": "code",
   "execution_count": null,
   "id": "ed8f13f9",
   "metadata": {},
   "outputs": [],
   "source": [
    "#Prepocessing and cleaning dataset\n",
    "# The name column has 3 missing values.\n",
    "# The reviews_per_month column has 5,975 missing values.\n",
    "\n",
    "\n",
    "\n",
    "# File path for the original dataset\n",
    "original_file_path = 'D:\\\\GUVI_Projects\\\\My_Projects\\\\listings_1.csv'\n",
    "\n",
    "# Load the data\n",
    "df = pd.read_csv(original_file_path)\n",
    "\n",
    "# Print initial missing values status\n",
    "print(\"Initial Missing Values:\\n\", df.isnull().sum())\n",
    "\n",
    "# Remove columns with more than 50% missing values\n",
    "threshold = 0.5 * len(df)\n",
    "df = df.dropna(thresh=threshold, axis=1)\n",
    "\n",
    "# Impute numerical columns with the median\n",
    "numerical_columns = df.select_dtypes(include=['int64', 'float64']).columns\n",
    "df[numerical_columns] = df[numerical_columns].fillna(df[numerical_columns].median())\n",
    "\n",
    "# Impute categorical columns with the mode (most frequent value)\n",
    "categorical_columns = df.select_dtypes(include=['object']).columns\n",
    "for column in categorical_columns:\n",
    "    df[column] = df[column].fillna(df[column].mode()[0])\n",
    "\n",
    "# Forward fill remaining missing values in time series or specific cases\n",
    "df.fillna(method='ffill', inplace=True)\n",
    "\n",
    "# Check and print the final status of missing values\n",
    "print(\"Final Missing Values:\\n\", df.isnull().sum())\n",
    "\n",
    "# Path where you want to save the cleaned dataset\n",
    "folder_path = 'D:\\\\GUVI_Projects\\\\My_Projects'\n",
    "file_name = 'cleaned_listings.csv'\n",
    "full_path = os.path.join(folder_path, file_name)\n",
    "\n",
    "# Ensure the folder exists\n",
    "if not os.path.exists(folder_path):\n",
    "    os.makedirs(folder_path)\n",
    "\n",
    "# Save the cleaned DataFrame\n",
    "df.to_csv(full_path, index=False)\n",
    "\n",
    "print(f\"The cleaned dataset has been saved to {full_path}\")\n"
   ]
  },
  {
   "cell_type": "code",
   "execution_count": null,
   "id": "c4c7b63d",
   "metadata": {},
   "outputs": [],
   "source": [
    "import pandas as pd\n",
    "\n",
    "def load_data():\n",
    "    # Define the path to your original cleaned data\n",
    "    input_path = 'D:\\GUVI_Projects\\My_Projects\\cleaned_listings.csv'\n",
    "    # Load the data from the CSV file\n",
    "    data = pd.read_csv(input_path)\n",
    "    print(\"Columns in the DataFrame:\", data.columns)  # This will list all the columns in the DataFrame\n",
    "\n",
    "    # Check if 'date_posted' is in the columns and convert it to datetime format\n",
    "    if 'date_posted' in data.columns:\n",
    "        data['date_posted'] = pd.to_datetime(data['date_posted'])\n",
    "    else:\n",
    "        print(\"'date_posted' column not found. Please check your data.\")\n",
    "\n",
    "    # Define the path where the updated data will be saved\n",
    "    output_path = 'D:\\\\GUVI_Projects\\\\My_Projects\\\\updated_cleaned_airbnb_data.csv'\n",
    "    \n",
    "    # Save the updated dataframe to a new CSV file\n",
    "    data.to_csv(output_path, index=False)\n",
    "    print(f\"Data saved to {output_path}\")\n",
    "\n",
    "    return data\n",
    "\n",
    "# Call the function to load, process, and save the data\n",
    "df = load_data()\n"
   ]
  },
  {
   "cell_type": "code",
   "execution_count": null,
   "id": "31c161f2",
   "metadata": {},
   "outputs": [],
   "source": [
    "\n",
    "def load_data():\n",
    "    file_path = r'D:\\GUVI_Projects\\My_Projects\\updated_cleaned_airbnb_data.csv'\n",
    "    data = pd.read_csv(file_path)\n",
    "    \n",
    "    # Convert 'last_scraped' to datetime if it exists in the DataFrame\n",
    "    if 'last_scraped' in data.columns:\n",
    "        data['last_scraped'] = pd.to_datetime(data['last_scraped'], dayfirst=True)\n",
    "    \n",
    "    # Clean the 'price' column to remove dollar signs and convert to float\n",
    "    if 'price' in data.columns:\n",
    "        data['price'] = data['price'].replace('[\\$,]', '', regex=True).astype(float)\n",
    "    \n",
    "    # Save the processed DataFrame to a new CSV file for later use in Power BI\n",
    "    output_file_path = r'D:\\GUVI_Projects\\My_Projects\\Final_Airbnb.csv'\n",
    "    data.to_csv(output_file_path, index=False)\n",
    "    \n",
    "    return data\n",
    "\n",
    "df = load_data()"
   ]
  }
 ],
 "metadata": {
  "kernelspec": {
   "display_name": "Python 3 (ipykernel)",
   "language": "python",
   "name": "python3"
  },
  "language_info": {
   "codemirror_mode": {
    "name": "ipython",
    "version": 3
   },
   "file_extension": ".py",
   "mimetype": "text/x-python",
   "name": "python",
   "nbconvert_exporter": "python",
   "pygments_lexer": "ipython3",
   "version": "3.8.7"
  }
 },
 "nbformat": 4,
 "nbformat_minor": 5
}
